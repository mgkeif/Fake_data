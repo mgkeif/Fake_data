{
  "nbformat": 4,
  "nbformat_minor": 0,
  "metadata": {
    "colab": {
      "name": "Fake Data US version 2.ipynb",
      "provenance": [],
      "collapsed_sections": [],
      "authorship_tag": "ABX9TyN6UyW0BaYZWveM0s3LY9qH",
      "include_colab_link": true
    },
    "kernelspec": {
      "name": "python3",
      "display_name": "Python 3"
    },
    "language_info": {
      "name": "python"
    }
  },
  "cells": [
    {
      "cell_type": "markdown",
      "metadata": {
        "id": "view-in-github",
        "colab_type": "text"
      },
      "source": [
        "<a href=\"https://colab.research.google.com/github/mgkeif/Fake_data/blob/master/Fake_Data_US_version_2.ipynb\" target=\"_parent\"><img src=\"https://colab.research.google.com/assets/colab-badge.svg\" alt=\"Open In Colab\"/></a>"
      ]
    },
    {
      "cell_type": "markdown",
      "metadata": {
        "id": "y8UU7Y_PCVj6"
      },
      "source": [
        "###You can generate your personal Fake Data file here (English US version)"
      ]
    },
    {
      "cell_type": "markdown",
      "metadata": {
        "id": "JVZNHTs6CtGT"
      },
      "source": [
        "Click on the arrow to the left of \"Generate your Fake Data here\". You will need to provide a title for your file. "
      ]
    },
    {
      "cell_type": "code",
      "metadata": {
        "colab": {
          "base_uri": "https://localhost:8080/"
        },
        "id": "rsT962NhASph",
        "cellView": "form",
        "outputId": "68d9c30a-e990-4fdb-8547-494389c59d07"
      },
      "source": [
        "#@title Generate your Fake Data here\n",
        "#!/usr/bin/env python3\n",
        "# -*- coding: utf-8 -*-\n",
        "\"\"\"\n",
        "Created on Tue Mar 30 17:51:19 2021\n",
        "\n",
        "@author: Malcolm Keif, Cal Poly\n",
        "\"\"\"\n",
        "import sys\n",
        "!{sys.executable} -m pip install Faker\n",
        "\n",
        "import csv\n",
        "\n",
        "#Must install Faker to import\n",
        "from faker import Faker\n",
        "\n",
        "#'de_DE\" is for German local. Leave blank for US\n",
        "fake = Faker()\n",
        "\n",
        "#Input name of the file. \n",
        "name = input ('What do you want to name your file?:')\n",
        "filename = name + \".csv\"\n",
        "\n",
        "#Input number of records. \n",
        "numrecords = input ('How many records would you like? (ex. 5000):')\n",
        "\n",
        "#Normal encoding is utf8 and should work for both Mac and Windows for English. \n",
        "        #Use 'mac_roman' encoding is for German when opened csv file on MAC.\n",
        "        #Use 'iso-8859-1' encoding is for German when opening csv file on windows\n",
        "#Prints to a csv file in home directory (where py file is saved)\n",
        "with open(filename, encoding='utf8', mode='w') as csv_file:\n",
        "    fieldnames = ['emp_name', 'address', 'city', 'state', 'zip', 'phone_number']\n",
        "    writer = csv.DictWriter(csv_file, fieldnames=fieldnames)\n",
        "    writer.writeheader()\n",
        "\n",
        "    for _ in range(int(numrecords)):\n",
        "        writer.writerow({'emp_name': fake.name(), 'address': fake.address(), 'city': fake.city(),\n",
        "                         'state': fake.state(), 'zip': fake.zipcode_plus4(),'phone_number': fake.phone_number()})\n",
        "        "
      ],
      "execution_count": null,
      "outputs": [
        {
          "output_type": "stream",
          "text": [
            "Requirement already satisfied: Faker in /usr/local/lib/python3.7/dist-packages (8.2.1)\n",
            "Requirement already satisfied: text-unidecode==1.3 in /usr/local/lib/python3.7/dist-packages (from Faker) (1.3)\n",
            "Requirement already satisfied: python-dateutil>=2.4 in /usr/local/lib/python3.7/dist-packages (from Faker) (2.8.1)\n",
            "Requirement already satisfied: six>=1.5 in /usr/local/lib/python3.7/dist-packages (from python-dateutil>=2.4->Faker) (1.15.0)\n",
            "What do you want to name your file?:Malcolm\n",
            "How many records would you like? (ex. 5000):250000\n"
          ],
          "name": "stdout"
        }
      ]
    },
    {
      "cell_type": "markdown",
      "metadata": {
        "id": "rsRkGzC7Cf3W"
      },
      "source": [
        "It may take a few moments (depending on your record number) to generate the file so be a little patient. Watch the spinning icon where the arrow was. When done, look for your file in the Content folder by selecting the folder icon to the left. Click on the refresh folder icon if you need to refresh your view. Download the file with the expandable menu to the right of the name."
      ]
    },
    {
      "cell_type": "code",
      "metadata": {
        "id": "NR9sdkT8KBTf"
      },
      "source": [
        ""
      ],
      "execution_count": null,
      "outputs": []
    }
  ]
}